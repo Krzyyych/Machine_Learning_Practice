{
 "cells": [
  {
   "cell_type": "code",
   "execution_count": 3,
   "id": "1ceea648-73cb-4db3-9dfd-93ce2f05b185",
   "metadata": {},
   "outputs": [],
   "source": [
    "#!pip install streamlit"
   ]
  },
  {
   "cell_type": "code",
   "execution_count": 8,
   "id": "b7a7078c-94ad-425d-aa81-b32986a3c93b",
   "metadata": {},
   "outputs": [],
   "source": [
    "import streamlit as st\n",
    "import pandas as pd\n",
    "from sklearn.datasets import fetch_california_housing"
   ]
  },
  {
   "cell_type": "code",
   "execution_count": 9,
   "id": "26b6807f-f7b8-4a77-9c68-acd7aa8e79ba",
   "metadata": {},
   "outputs": [],
   "source": [
    "housing = fetch_california_housing()"
   ]
  },
  {
   "cell_type": "code",
   "execution_count": 17,
   "id": "77a0a376-3d75-4ed4-8815-55feadffdf1c",
   "metadata": {},
   "outputs": [],
   "source": [
    "df = pd.DataFrame(housing.data, columns=housing.feature_names)\n",
    "df['Score'] = housing.target"
   ]
  },
  {
   "cell_type": "code",
   "execution_count": 19,
   "id": "2cfe136c-cf40-43b5-8021-cf5ee8199be5",
   "metadata": {},
   "outputs": [
    {
     "name": "stderr",
     "output_type": "stream",
     "text": [
      "2024-03-18 20:11:39.413 \n",
      "  \u001b[33m\u001b[1mWarning:\u001b[0m to view this Streamlit app on a browser, run it with the following\n",
      "  command:\n",
      "\n",
      "    streamlit run C:\\anaconda\\Lib\\site-packages\\ipykernel_launcher.py [ARGUMENTS]\n"
     ]
    },
    {
     "data": {
      "text/plain": [
       "DeltaGenerator()"
      ]
     },
     "execution_count": 19,
     "metadata": {},
     "output_type": "execute_result"
    }
   ],
   "source": [
    "st.title('Eksploracyjna Analiza Danych (EDA) - Ceny Mieszkań w Kalifornii')"
   ]
  },
  {
   "cell_type": "code",
   "execution_count": null,
   "id": "ade7bd2e-44ef-46da-a2f8-20504e816c6d",
   "metadata": {},
   "outputs": [],
   "source": [
    "!streamlit run C:\\anaconda\\Lib\\site-packages\\ipykernel_launcher.py"
   ]
  },
  {
   "cell_type": "code",
   "execution_count": null,
   "id": "f874268b-131a-41f1-914f-bc511b3fa997",
   "metadata": {},
   "outputs": [],
   "source": [
    "if st.checkbox('Wyświetl podstawowe informacje o danych'):\n",
    "    st.write(df.head())\n",
    "    st.write(df.describe())"
   ]
  },
  {
   "cell_type": "code",
   "execution_count": null,
   "id": "24722b3f-6c11-4055-a792-d36ab9c4e9d4",
   "metadata": {},
   "outputs": [],
   "source": [
    "!streamlit hello"
   ]
  },
  {
   "cell_type": "code",
   "execution_count": null,
   "id": "c25b923a-7c6d-4df7-99ce-8a50f837d172",
   "metadata": {},
   "outputs": [],
   "source": []
  }
 ],
 "metadata": {
  "kernelspec": {
   "display_name": "Python 3 (ipykernel)",
   "language": "python",
   "name": "python3"
  },
  "language_info": {
   "codemirror_mode": {
    "name": "ipython",
    "version": 3
   },
   "file_extension": ".py",
   "mimetype": "text/x-python",
   "name": "python",
   "nbconvert_exporter": "python",
   "pygments_lexer": "ipython3",
   "version": "3.11.7"
  }
 },
 "nbformat": 4,
 "nbformat_minor": 5
}
