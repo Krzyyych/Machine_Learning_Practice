{
 "cells": [
  {
   "cell_type": "code",
   "execution_count": 1,
   "id": "08469c9a-2b22-4e07-888c-76fc6c4af745",
   "metadata": {
    "tags": []
   },
   "outputs": [],
   "source": [
    "import gym\n",
    "from gym.wrappers.monitoring.video_recorder import VideoRecorder\n",
    "from base64 import b64encode\n",
    "from IPython.display import HTML"
   ]
  },
  {
   "cell_type": "code",
   "execution_count": 2,
   "id": "ea6818ed-b6ce-4143-afaf-60ec79c73600",
   "metadata": {
    "tags": []
   },
   "outputs": [],
   "source": [
    "env = gym.make(\"CartPole-v1\")"
   ]
  },
  {
   "cell_type": "code",
   "execution_count": 3,
   "id": "151a7665-62a9-443c-8c42-97a18457ddc6",
   "metadata": {
    "tags": []
   },
   "outputs": [
    {
     "data": {
      "text/plain": [
       "Discrete(2)"
      ]
     },
     "execution_count": 3,
     "metadata": {},
     "output_type": "execute_result"
    }
   ],
   "source": [
    "env.action_space"
   ]
  },
  {
   "cell_type": "code",
   "execution_count": 4,
   "id": "a6a63590-f564-47d4-bc50-8f6334b63c41",
   "metadata": {
    "tags": []
   },
   "outputs": [
    {
     "data": {
      "text/plain": [
       "(array([-0.03376142, -0.02516883,  0.01690704, -0.04774364], dtype=float32),\n",
       " {})"
      ]
     },
     "execution_count": 4,
     "metadata": {},
     "output_type": "execute_result"
    }
   ],
   "source": [
    "env.reset()"
   ]
  },
  {
   "cell_type": "code",
   "execution_count": 5,
   "id": "ed8b1001-5e78-4cfb-a690-7fcb46dc7af5",
   "metadata": {
    "tags": []
   },
   "outputs": [
    {
     "name": "stdout",
     "output_type": "stream",
     "text": [
      "step 0 [-0.0342648  -0.2205291   0.01595216  0.2502253 ] 1.0 False False\n",
      "step 1 [-0.03867538 -0.41587517  0.02095667  0.54789686] 1.0 False False\n",
      "step 2 [-0.04699289 -0.2210538   0.03191461  0.2618898 ] 1.0 False False\n",
      "step 3 [-0.05141396 -0.41661644  0.03715241  0.5644657 ] 1.0 False False\n",
      "step 4 [-0.05974629 -0.6122394   0.04844172  0.86861795] 1.0 False False\n",
      "step 5 [-0.07199108 -0.41780883  0.06581408  0.59155047] 1.0 False False\n",
      "step 6 [-0.08034725 -0.22366701  0.07764509  0.3203036 ] 1.0 False False\n",
      "step 7 [-0.0848206  -0.02973175  0.08405115  0.05308187] 1.0 False False\n",
      "step 8 [-0.08541523 -0.22595203  0.0851128   0.3710552 ] 1.0 False False\n",
      "step 9 [-0.08993427 -0.0321359   0.0925339   0.10637636] 1.0 False False\n",
      "step 10 [-0.09057699  0.16154656  0.09466143 -0.15573825] 1.0 False False\n",
      "step 11 [-0.08734606 -0.03479429  0.09154666  0.1652434 ] 1.0 False False\n",
      "step 12 [-0.08804195 -0.23109935  0.09485153  0.4853451 ] 1.0 False False\n",
      "step 13 [-0.09266393 -0.42742285  0.10455843  0.8063512 ] 1.0 False False\n",
      "step 14 [-0.10121239 -0.6238107   0.12068546  1.1300083 ] 1.0 False False\n",
      "step 15 [-0.1136886  -0.8202883   0.14328562  1.4579766 ] 1.0 False False\n",
      "step 16 [-0.13009436 -1.0168477   0.17244515  1.7917763 ] 1.0 False False\n",
      "step 17 [-0.15043132 -0.8240282   0.20828068  1.5572847 ] 1.0 False False\n",
      "step 18 [-0.16691189 -0.63191944  0.23942637  1.3361421 ] 1.0 True False\n",
      "step 19 [-0.17955028 -0.4404762   0.26614922  1.1268896 ] 0.0 True False\n"
     ]
    },
    {
     "name": "stderr",
     "output_type": "stream",
     "text": [
      "C:\\anaconda\\Lib\\site-packages\\gym\\utils\\passive_env_checker.py:233: DeprecationWarning: `np.bool8` is a deprecated alias for `np.bool_`.  (Deprecated NumPy 1.24)\n",
      "  if not isinstance(terminated, (bool, np.bool8)):\n",
      "C:\\anaconda\\Lib\\site-packages\\gym\\envs\\classic_control\\cartpole.py:177: UserWarning: \u001b[33mWARN: You are calling 'step()' even though this environment has already returned terminated = True. You should always call 'reset()' once you receive 'terminated = True' -- any further steps are undefined behavior.\u001b[0m\n",
      "  logger.warn(\n"
     ]
    }
   ],
   "source": [
    "for i in range(20):\n",
    "\n",
    "    # env.action_space.sample() produces either 0 (left) or 1 (right).\n",
    "    # observation, reward, done, info = env.step(env.action_space.sample())\n",
    "    result = env.step(env.action_space.sample())\n",
    "    observation = result[0]\n",
    "    reward = result[1]\n",
    "    done = result[2]\n",
    "    info = result[3]\n",
    "    print(\"step\", i, observation, reward, done, info)\n",
    "\n",
    "env.close()"
   ]
  },
  {
   "cell_type": "code",
   "execution_count": 6,
   "id": "5b6f4908-fa07-4bdc-b218-af1af9c56830",
   "metadata": {
    "tags": []
   },
   "outputs": [
    {
     "data": {
      "text/plain": [
       "(array([-0.1883598 , -0.24963367,  0.28868702,  0.9280323 ], dtype=float32),\n",
       " 0.0,\n",
       " True,\n",
       " False,\n",
       " {})"
      ]
     },
     "execution_count": 6,
     "metadata": {},
     "output_type": "execute_result"
    }
   ],
   "source": [
    "env.step(env.action_space.sample())"
   ]
  },
  {
   "cell_type": "code",
   "execution_count": 7,
   "id": "05a0a74a-c901-4e6a-a7f7-f3c7deb478db",
   "metadata": {
    "tags": []
   },
   "outputs": [],
   "source": [
    "#!pip install pyvirtualdisplay==0.2.*\n",
    "#!pip install moviepy"
   ]
  },
  {
   "cell_type": "code",
   "execution_count": 8,
   "id": "2eded9b7-d5f2-4ccb-a047-62b79c57abad",
   "metadata": {
    "tags": []
   },
   "outputs": [
    {
     "name": "stderr",
     "output_type": "stream",
     "text": [
      "C:\\anaconda\\Lib\\site-packages\\gym\\wrappers\\monitoring\\video_recorder.py:59: UserWarning: \u001b[33mWARN: Disabling video recorder because environment <TimeLimit<OrderEnforcing<PassiveEnvChecker<CartPoleEnv<CartPole-v1>>>>> was not initialized with any compatible video mode between `rgb_array` and `rgb_array_list`\u001b[0m\n",
      "  logger.warn(\n",
      "C:\\anaconda\\Lib\\site-packages\\gym\\envs\\classic_control\\cartpole.py:211: UserWarning: \u001b[33mWARN: You are calling render method without specifying any render mode. You can specify the render_mode at initialization, e.g. gym(\"CartPole-v1\", render_mode=\"rgb_array\")\u001b[0m\n",
      "  gym.logger.warn(\n"
     ]
    }
   ],
   "source": [
    "before_training = \"before_training.mp4\"\n",
    "video = VideoRecorder(env, before_training)\n",
    "# returns an initial observation\n",
    "env.reset()\n",
    "for i in range(200):\n",
    "    env.render()\n",
    "    video.capture_frame()\n",
    "    # env.action_space.sample() produces either 0 (left) or 1 (right).\n",
    "    # observation, reward, done, info = env.step(env.action_space.sample())\n",
    "    result = env.step(env.action_space.sample())\n",
    "    observation = result[0]\n",
    "    reward = result[1]\n",
    "    done = result[2]\n",
    "    info = result[3]\n",
    "\n",
    "video.close()\n",
    "env.close()"
   ]
  },
  {
   "cell_type": "code",
   "execution_count": 9,
   "id": "a994ac6e-22ce-45fd-ac69-892b93cb55af",
   "metadata": {
    "tags": []
   },
   "outputs": [],
   "source": [
    "def render_mp4(videopath: str) -> str:\n",
    "    \"\"\"\n",
    "    Gets a string containing a b4-encoded version of the MP4 video\n",
    "    at the specified path.\n",
    "    \"\"\"\n",
    "    mp4 = open(videopath, 'rb').read()\n",
    "    base64_encoded_mp4 = b64encode(mp4).decode()\n",
    "    return f'<video width=400 controls><source src=\"data:video/mp4;' \\\n",
    "         f'base64,{base64_encoded_mp4}\" type=\"video/mp4\"></video>'"
   ]
  },
  {
   "cell_type": "code",
   "execution_count": 10,
   "id": "9c30345a-5076-4bde-abba-485e4b7d0869",
   "metadata": {
    "tags": []
   },
   "outputs": [
    {
     "ename": "FileNotFoundError",
     "evalue": "[Errno 2] No such file or directory: 'before_training.mp4'",
     "output_type": "error",
     "traceback": [
      "\u001b[1;31m---------------------------------------------------------------------------\u001b[0m",
      "\u001b[1;31mFileNotFoundError\u001b[0m                         Traceback (most recent call last)",
      "Cell \u001b[1;32mIn[10], line 1\u001b[0m\n\u001b[1;32m----> 1\u001b[0m html \u001b[38;5;241m=\u001b[39m render_mp4(before_training)\n\u001b[0;32m      2\u001b[0m HTML(html)\n",
      "Cell \u001b[1;32mIn[9], line 6\u001b[0m, in \u001b[0;36mrender_mp4\u001b[1;34m(videopath)\u001b[0m\n\u001b[0;32m      1\u001b[0m \u001b[38;5;28;01mdef\u001b[39;00m \u001b[38;5;21mrender_mp4\u001b[39m(videopath: \u001b[38;5;28mstr\u001b[39m) \u001b[38;5;241m-\u001b[39m\u001b[38;5;241m>\u001b[39m \u001b[38;5;28mstr\u001b[39m:\n\u001b[0;32m      2\u001b[0m \u001b[38;5;250m    \u001b[39m\u001b[38;5;124;03m\"\"\"\u001b[39;00m\n\u001b[0;32m      3\u001b[0m \u001b[38;5;124;03m    Gets a string containing a b4-encoded version of the MP4 video\u001b[39;00m\n\u001b[0;32m      4\u001b[0m \u001b[38;5;124;03m    at the specified path.\u001b[39;00m\n\u001b[0;32m      5\u001b[0m \u001b[38;5;124;03m    \"\"\"\u001b[39;00m\n\u001b[1;32m----> 6\u001b[0m     mp4 \u001b[38;5;241m=\u001b[39m \u001b[38;5;28mopen\u001b[39m(videopath, \u001b[38;5;124m'\u001b[39m\u001b[38;5;124mrb\u001b[39m\u001b[38;5;124m'\u001b[39m)\u001b[38;5;241m.\u001b[39mread()\n\u001b[0;32m      7\u001b[0m     base64_encoded_mp4 \u001b[38;5;241m=\u001b[39m b64encode(mp4)\u001b[38;5;241m.\u001b[39mdecode()\n\u001b[0;32m      8\u001b[0m     \u001b[38;5;28;01mreturn\u001b[39;00m \u001b[38;5;124mf\u001b[39m\u001b[38;5;124m'\u001b[39m\u001b[38;5;124m<video width=400 controls><source src=\u001b[39m\u001b[38;5;124m\"\u001b[39m\u001b[38;5;124mdata:video/mp4;\u001b[39m\u001b[38;5;124m'\u001b[39m \\\n\u001b[0;32m      9\u001b[0m          \u001b[38;5;124mf\u001b[39m\u001b[38;5;124m'\u001b[39m\u001b[38;5;124mbase64,\u001b[39m\u001b[38;5;132;01m{\u001b[39;00mbase64_encoded_mp4\u001b[38;5;132;01m}\u001b[39;00m\u001b[38;5;124m\"\u001b[39m\u001b[38;5;124m type=\u001b[39m\u001b[38;5;124m\"\u001b[39m\u001b[38;5;124mvideo/mp4\u001b[39m\u001b[38;5;124m\"\u001b[39m\u001b[38;5;124m></video>\u001b[39m\u001b[38;5;124m'\u001b[39m\n",
      "File \u001b[1;32mC:\\anaconda\\Lib\\site-packages\\IPython\\core\\interactiveshell.py:310\u001b[0m, in \u001b[0;36m_modified_open\u001b[1;34m(file, *args, **kwargs)\u001b[0m\n\u001b[0;32m    303\u001b[0m \u001b[38;5;28;01mif\u001b[39;00m file \u001b[38;5;129;01min\u001b[39;00m {\u001b[38;5;241m0\u001b[39m, \u001b[38;5;241m1\u001b[39m, \u001b[38;5;241m2\u001b[39m}:\n\u001b[0;32m    304\u001b[0m     \u001b[38;5;28;01mraise\u001b[39;00m \u001b[38;5;167;01mValueError\u001b[39;00m(\n\u001b[0;32m    305\u001b[0m         \u001b[38;5;124mf\u001b[39m\u001b[38;5;124m\"\u001b[39m\u001b[38;5;124mIPython won\u001b[39m\u001b[38;5;124m'\u001b[39m\u001b[38;5;124mt let you open fd=\u001b[39m\u001b[38;5;132;01m{\u001b[39;00mfile\u001b[38;5;132;01m}\u001b[39;00m\u001b[38;5;124m by default \u001b[39m\u001b[38;5;124m\"\u001b[39m\n\u001b[0;32m    306\u001b[0m         \u001b[38;5;124m\"\u001b[39m\u001b[38;5;124mas it is likely to crash IPython. If you know what you are doing, \u001b[39m\u001b[38;5;124m\"\u001b[39m\n\u001b[0;32m    307\u001b[0m         \u001b[38;5;124m\"\u001b[39m\u001b[38;5;124myou can use builtins\u001b[39m\u001b[38;5;124m'\u001b[39m\u001b[38;5;124m open.\u001b[39m\u001b[38;5;124m\"\u001b[39m\n\u001b[0;32m    308\u001b[0m     )\n\u001b[1;32m--> 310\u001b[0m \u001b[38;5;28;01mreturn\u001b[39;00m io_open(file, \u001b[38;5;241m*\u001b[39margs, \u001b[38;5;241m*\u001b[39m\u001b[38;5;241m*\u001b[39mkwargs)\n",
      "\u001b[1;31mFileNotFoundError\u001b[0m: [Errno 2] No such file or directory: 'before_training.mp4'"
     ]
    }
   ],
   "source": [
    "html = render_mp4(before_training)\n",
    "HTML(html)"
   ]
  },
  {
   "cell_type": "code",
   "execution_count": null,
   "id": "31b70ace-c247-4dfc-9df5-a79139de5648",
   "metadata": {},
   "outputs": [],
   "source": []
  }
 ],
 "metadata": {
  "kernelspec": {
   "display_name": "Python 3 (ipykernel)",
   "language": "python",
   "name": "python3"
  },
  "language_info": {
   "codemirror_mode": {
    "name": "ipython",
    "version": 3
   },
   "file_extension": ".py",
   "mimetype": "text/x-python",
   "name": "python",
   "nbconvert_exporter": "python",
   "pygments_lexer": "ipython3",
   "version": "3.11.7"
  }
 },
 "nbformat": 4,
 "nbformat_minor": 5
}
