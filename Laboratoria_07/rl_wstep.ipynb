{
 "cells": [
  {
   "cell_type": "code",
   "execution_count": 13,
   "id": "6d67b28c-c2fd-4af3-b500-d0f924cb0dd8",
   "metadata": {
    "tags": []
   },
   "outputs": [],
   "source": [
    "import gym\n",
    "from gym import spaces\n",
    "import numpy as np"
   ]
  },
  {
   "cell_type": "code",
   "execution_count": 15,
   "id": "4927e3e8-5c40-4697-90b5-ec0b6efd2fae",
   "metadata": {
    "tags": []
   },
   "outputs": [],
   "source": [
    "class CustomEnv(gym.Env):\n",
    "    def __init__(self):\n",
    "        super(CustomEnv, self).__init__()\n",
    "        self.action_space = spaces.Discrete(2)  # Przykładowe dwie możliwe akcje\n",
    "        self.observation_space = spaces.Box(low=0, high=1, shape=(2,))  # Przykładowe obserwacje - wektor dwuelementowy\n",
    "\n",
    "    def reset(self):\n",
    "        # Inicjalizacja stanu początkowego\n",
    "        return np.zeros(2)\n",
    "\n",
    "    def step(self, action):\n",
    "        # Wykonanie akcji i zwrócenie kolejnego stanu, nagrody, informacji o zakończeniu\n",
    "        state = np.zeros(2)  # Przykładowy stan\n",
    "        reward = 0  # Przykładowa nagroda\n",
    "        done = False  # Przykładowa flaga informująca o zakończeniu\n",
    "        return state, reward, done, {}\n",
    "\n",
    "    def render(self, mode='human'):\n",
    "        # Renderowanie stanu środowiska\n",
    "        pass"
   ]
  },
  {
   "cell_type": "code",
   "execution_count": 17,
   "id": "c9dbb529-76a2-4abb-8641-2317b17cc744",
   "metadata": {
    "tags": []
   },
   "outputs": [],
   "source": [
    "env = CustomEnv()\n",
    "observation = env.reset()\n",
    "for _ in range(100):\n",
    "    action = env.action_space.sample()  # Losowa akcja\n",
    "    observation, reward, done, info = env.step(action)\n",
    "    if done:\n",
    "        observation = env.reset()  # Jeśli gra się zakończyła, resetuj środowisko"
   ]
  },
  {
   "cell_type": "code",
   "execution_count": null,
   "id": "f53194af-a671-4a00-9e5e-f3955597bd2b",
   "metadata": {},
   "outputs": [],
   "source": []
  }
 ],
 "metadata": {
  "kernelspec": {
   "display_name": "Python 3 (ipykernel)",
   "language": "python",
   "name": "python3"
  },
  "language_info": {
   "codemirror_mode": {
    "name": "ipython",
    "version": 3
   },
   "file_extension": ".py",
   "mimetype": "text/x-python",
   "name": "python",
   "nbconvert_exporter": "python",
   "pygments_lexer": "ipython3",
   "version": "3.11.7"
  }
 },
 "nbformat": 4,
 "nbformat_minor": 5
}
